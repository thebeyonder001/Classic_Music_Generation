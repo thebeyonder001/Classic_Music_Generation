{
 "cells": [
  {
   "cell_type": "code",
   "execution_count": 1,
   "metadata": {},
   "outputs": [
    {
     "name": "stderr",
     "output_type": "stream",
     "text": [
      "Using TensorFlow backend.\n"
     ]
    }
   ],
   "source": [
    "import numpy as np\n",
    "from music21 import converter, corpus, instrument, midi, note, chord, pitch, stream\n",
    "from keras.utils import np_utils"
   ]
  },
  {
   "cell_type": "code",
   "execution_count": 17,
   "metadata": {},
   "outputs": [],
   "source": [
    "def getnotes_chords_rest(file):\n",
    "    midi = converter.parse(file)\n",
    "    parts = instrument.partitionByInstrument(midi)\n",
    "    notes_instrs = []\n",
    "    instruments = []\n",
    "    for i in range(len(parts.parts)):\n",
    "        notes_Instr = parts.parts[i].recurse()\n",
    "        instr = parts.parts[i].getInstrument()\n",
    "        instruments.append(instr.instrumentName)\n",
    "        notes = []\n",
    "        for element in notes_Instr:\n",
    "            if isinstance(element,note.Note):\n",
    "                notes.append(str(element.pitch))\n",
    "            elif isinstance(element,chord.Chord):\n",
    "                notes.append('.'.join(str(n) for n in element.normalOrder))\n",
    "            #elif isinstance(element,note.Rest):\n",
    "             #   notes.append('Rest')\n",
    "        notes_instrs.append(notes)\n",
    "    return notes_instrs,instruments"
   ]
  },
  {
   "cell_type": "code",
   "execution_count": null,
   "metadata": {
    "scrolled": true
   },
   "outputs": [],
   "source": [
    "import os\n",
    "i = []\n",
    "counter = 0\n",
    "shapes = []\n",
    "folder_path = \"/home/beyonder100000/Documents/RNN_MUSIC/data\"\n",
    "for midifile in os.listdir(folder_path):\n",
    "    #print(midifile)\n",
    "    print(counter)\n",
    "    counter = counter + 1\n",
    "    t,j=getnotes_chords_rest(folder_path + \"/\" + str(midifile))\n",
    "    i.append(t)\n",
    "    shapes.append(np.shape(t))"
   ]
  },
  {
   "cell_type": "code",
   "execution_count": null,
   "metadata": {
    "scrolled": false
   },
   "outputs": [],
   "source": [
    "notes = []\n",
    "for k in i:\n",
    "    for e in k:\n",
    "        if e != []:\n",
    "            for n in e:\n",
    "                notes.append(n)\n",
    "print(np.shape(notes))"
   ]
  },
  {
   "cell_type": "code",
   "execution_count": null,
   "metadata": {},
   "outputs": [],
   "source": [
    "seq_len=50\n",
    "notes = notes[:5000]"
   ]
  },
  {
   "cell_type": "code",
   "execution_count": 18,
   "metadata": {},
   "outputs": [],
   "source": [
    "mean =  86.0\n",
    "n_vocab =  173\n",
    "seq_len =  50\n",
    "int_to_note =  {-0.49710982658959535: '0', -0.4913294797687861: '0.1', -0.48554913294797686: '0.2', -0.4797687861271676: '0.2.5', -0.47398843930635837: '0.3', -0.4682080924855491: '0.3.7', -0.4624277456647399: '0.4', -0.45664739884393063: '0.4.7', -0.4508670520231214: '0.5', -0.44508670520231214: '0.6', -0.4393063583815029: '1.3', -0.43352601156069365: '1.4', -0.4277456647398844: '1.4.8', -0.42196531791907516: '1.5', -0.4161849710982659: '1.6', -0.41040462427745666: '1.7', -0.4046242774566474: '10', -0.3988439306358382: '10.0', -0.3930635838150289: '10.0.5', -0.3872832369942196: '10.1', -0.3815028901734104: '10.1.5', -0.37572254335260113: '10.2', -0.3699421965317919: '10.2.5', -0.36416184971098264: '10.3', -0.3583815028901734: '11.1.6', -0.35260115606936415: '11.2', -0.3468208092485549: '11.2.5', -0.34104046242774566: '11.3', -0.3352601156069364: '11.3.6', -0.32947976878612717: '11.4', -0.3236994219653179: '2', -0.3179190751445087: '2.3', -0.31213872832369943: '2.4', -0.3063583815028902: '2.4.7', -0.30057803468208094: '2.5', -0.2947976878612717: '2.5.7', -0.28901734104046245: '2.5.7.10', -0.2832369942196532: '2.5.8', -0.2774566473988439: '2.5.9', -0.27167630057803466: '2.6', -0.2658959537572254: '2.7', -0.26011560693641617: '2.8', -0.2543352601156069: '3', -0.24855491329479767: '3.4.8', -0.24277456647398843: '3.5', -0.23699421965317918: '3.6', -0.23121387283236994: '3.6.10', -0.2254335260115607: '3.7', -0.21965317919075145: '3.7.10', -0.2138728323699422: '3.8', -0.20809248554913296: '3.9', -0.2023121387283237: '4', -0.19653179190751446: '4.6', -0.1907514450867052: '4.6.10', -0.18497109826589594: '4.7', -0.1791907514450867: '4.8', -0.17341040462427745: '4.8.10', -0.1676300578034682: '4.8.11', -0.16184971098265896: '4.8.9', -0.15606936416184972: '4.8.9.11', -0.15028901734104047: '4.9.10', -0.14450867052023122: '5', -0.13872832369942195: '5.10', -0.1329479768786127: '5.11', -0.12716763005780346: '5.7', -0.12138728323699421: '5.7.0', -0.11560693641618497: '5.7.10', -0.10982658959537572: '5.8', -0.10404624277456648: '5.8.0', -0.09826589595375723: '5.9', -0.09248554913294797: '5.9.0', -0.08670520231213873: '6', -0.08092485549132948: '6.10', -0.07514450867052024: '6.10.1', -0.06936416184971098: '6.11', -0.06358381502890173: '6.8', -0.057803468208092484: '6.8.0', -0.05202312138728324: '6.8.11', -0.046242774566473986: '6.9', -0.04046242774566474: '6.9.0', -0.03468208092485549: '7', -0.028901734104046242: '7.0', -0.023121387283236993: '7.10', -0.017341040462427744: '7.10.0', -0.011560693641618497: '7.10.1', -0.005780346820809248: '7.10.2', 0.0: '7.11', 0.005780346820809248: '7.11.0', 0.011560693641618497: '7.11.2', 0.017341040462427744: '7.8.10.2', 0.023121387283236993: '7.8.11', 0.028901734104046242: '7.9', 0.03468208092485549: '7.9.11', 0.04046242774566474: '7.9.2', 0.046242774566473986: '8', 0.05202312138728324: '8.0', 0.057803468208092484: '8.0.3', 0.06358381502890173: '8.1', 0.06936416184971098: '8.11', 0.07514450867052024: '8.11.3', 0.08092485549132948: '8.9.11.1', 0.08670520231213873: '9', 0.09248554913294797: '9.0', 0.09826589595375723: '9.0.4', 0.10404624277456648: '9.1', 0.10982658959537572: '9.1.4', 0.11560693641618497: '9.10.2.4', 0.12138728323699421: '9.11', 0.12716763005780346: '9.2', 0.1329479768786127: 'A1', 0.13872832369942195: 'A2', 0.14450867052023122: 'A3', 0.15028901734104047: 'A4', 0.15606936416184972: 'A5', 0.16184971098265896: 'B-1', 0.1676300578034682: 'B-2', 0.17341040462427745: 'B-3', 0.1791907514450867: 'B-4', 0.18497109826589594: 'B-5', 0.1907514450867052: 'B-6', 0.19653179190751446: 'B1', 0.2023121387283237: 'B2', 0.20809248554913296: 'B3', 0.2138728323699422: 'B4', 0.21965317919075145: 'B5', 0.2254335260115607: 'C#2', 0.23121387283236994: 'C#3', 0.23699421965317918: 'C#4', 0.24277456647398843: 'C#5', 0.24855491329479767: 'C#6', 0.2543352601156069: 'C2', 0.26011560693641617: 'C3', 0.2658959537572254: 'C4', 0.27167630057803466: 'C5', 0.2774566473988439: 'C6', 0.2832369942196532: 'C7', 0.28901734104046245: 'D2', 0.2947976878612717: 'D3', 0.30057803468208094: 'D4', 0.3063583815028902: 'D5', 0.31213872832369943: 'D6', 0.3179190751445087: 'E-2', 0.3236994219653179: 'E-3', 0.32947976878612717: 'E-4', 0.3352601156069364: 'E-5', 0.34104046242774566: 'E-6', 0.3468208092485549: 'E2', 0.35260115606936415: 'E3', 0.3583815028901734: 'E4', 0.36416184971098264: 'E5', 0.3699421965317919: 'E6', 0.37572254335260113: 'F#2', 0.3815028901734104: 'F#3', 0.3872832369942196: 'F#4', 0.3930635838150289: 'F#5', 0.3988439306358382: 'F#6', 0.4046242774566474: 'F1', 0.41040462427745666: 'F2', 0.4161849710982659: 'F3', 0.42196531791907516: 'F4', 0.4277456647398844: 'F5', 0.43352601156069365: 'F6', 0.4393063583815029: 'G#2', 0.44508670520231214: 'G#3', 0.4508670520231214: 'G#4', 0.45664739884393063: 'G#5', 0.4624277456647399: 'G#6', 0.4682080924855491: 'G1', 0.47398843930635837: 'G2', 0.4797687861271676: 'G3', 0.48554913294797686: 'G4', 0.4913294797687861: 'G5', 0.49710982658959535: 'G6'}\n",
    "note_to_int =  {'0': -0.49710982658959535, '0.1': -0.4913294797687861, '0.2': -0.48554913294797686, '0.2.5': -0.4797687861271676, '0.3': -0.47398843930635837, '0.3.7': -0.4682080924855491, '0.4': -0.4624277456647399, '0.4.7': -0.45664739884393063, '0.5': -0.4508670520231214, '0.6': -0.44508670520231214, '1.3': -0.4393063583815029, '1.4': -0.43352601156069365, '1.4.8': -0.4277456647398844, '1.5': -0.42196531791907516, '1.6': -0.4161849710982659, '1.7': -0.41040462427745666, '10': -0.4046242774566474, '10.0': -0.3988439306358382, '10.0.5': -0.3930635838150289, '10.1': -0.3872832369942196, '10.1.5': -0.3815028901734104, '10.2': -0.37572254335260113, '10.2.5': -0.3699421965317919, '10.3': -0.36416184971098264, '11.1.6': -0.3583815028901734, '11.2': -0.35260115606936415, '11.2.5': -0.3468208092485549, '11.3': -0.34104046242774566, '11.3.6': -0.3352601156069364, '11.4': -0.32947976878612717, '2': -0.3236994219653179, '2.3': -0.3179190751445087, '2.4': -0.31213872832369943, '2.4.7': -0.3063583815028902, '2.5': -0.30057803468208094, '2.5.7': -0.2947976878612717, '2.5.7.10': -0.28901734104046245, '2.5.8': -0.2832369942196532, '2.5.9': -0.2774566473988439, '2.6': -0.27167630057803466, '2.7': -0.2658959537572254, '2.8': -0.26011560693641617, '3': -0.2543352601156069, '3.4.8': -0.24855491329479767, '3.5': -0.24277456647398843, '3.6': -0.23699421965317918, '3.6.10': -0.23121387283236994, '3.7': -0.2254335260115607, '3.7.10': -0.21965317919075145, '3.8': -0.2138728323699422, '3.9': -0.20809248554913296, '4': -0.2023121387283237, '4.6': -0.19653179190751446, '4.6.10': -0.1907514450867052, '4.7': -0.18497109826589594, '4.8': -0.1791907514450867, '4.8.10': -0.17341040462427745, '4.8.11': -0.1676300578034682, '4.8.9': -0.16184971098265896, '4.8.9.11': -0.15606936416184972, '4.9.10': -0.15028901734104047, '5': -0.14450867052023122, '5.10': -0.13872832369942195, '5.11': -0.1329479768786127, '5.7': -0.12716763005780346, '5.7.0': -0.12138728323699421, '5.7.10': -0.11560693641618497, '5.8': -0.10982658959537572, '5.8.0': -0.10404624277456648, '5.9': -0.09826589595375723, '5.9.0': -0.09248554913294797, '6': -0.08670520231213873, '6.10': -0.08092485549132948, '6.10.1': -0.07514450867052024, '6.11': -0.06936416184971098, '6.8': -0.06358381502890173, '6.8.0': -0.057803468208092484, '6.8.11': -0.05202312138728324, '6.9': -0.046242774566473986, '6.9.0': -0.04046242774566474, '7': -0.03468208092485549, '7.0': -0.028901734104046242, '7.10': -0.023121387283236993, '7.10.0': -0.017341040462427744, '7.10.1': -0.011560693641618497, '7.10.2': -0.005780346820809248, '7.11': 0.0, '7.11.0': 0.005780346820809248, '7.11.2': 0.011560693641618497, '7.8.10.2': 0.017341040462427744, '7.8.11': 0.023121387283236993, '7.9': 0.028901734104046242, '7.9.11': 0.03468208092485549, '7.9.2': 0.04046242774566474, '8': 0.046242774566473986, '8.0': 0.05202312138728324, '8.0.3': 0.057803468208092484, '8.1': 0.06358381502890173, '8.11': 0.06936416184971098, '8.11.3': 0.07514450867052024, '8.9.11.1': 0.08092485549132948, '9': 0.08670520231213873, '9.0': 0.09248554913294797, '9.0.4': 0.09826589595375723, '9.1': 0.10404624277456648, '9.1.4': 0.10982658959537572, '9.10.2.4': 0.11560693641618497, '9.11': 0.12138728323699421, '9.2': 0.12716763005780346, 'A1': 0.1329479768786127, 'A2': 0.13872832369942195, 'A3': 0.14450867052023122, 'A4': 0.15028901734104047, 'A5': 0.15606936416184972, 'B-1': 0.16184971098265896, 'B-2': 0.1676300578034682, 'B-3': 0.17341040462427745, 'B-4': 0.1791907514450867, 'B-5': 0.18497109826589594, 'B-6': 0.1907514450867052, 'B1': 0.19653179190751446, 'B2': 0.2023121387283237, 'B3': 0.20809248554913296, 'B4': 0.2138728323699422, 'B5': 0.21965317919075145, 'C#2': 0.2254335260115607, 'C#3': 0.23121387283236994, 'C#4': 0.23699421965317918, 'C#5': 0.24277456647398843, 'C#6': 0.24855491329479767, 'C2': 0.2543352601156069, 'C3': 0.26011560693641617, 'C4': 0.2658959537572254, 'C5': 0.27167630057803466, 'C6': 0.2774566473988439, 'C7': 0.2832369942196532, 'D2': 0.28901734104046245, 'D3': 0.2947976878612717, 'D4': 0.30057803468208094, 'D5': 0.3063583815028902, 'D6': 0.31213872832369943, 'E-2': 0.3179190751445087, 'E-3': 0.3236994219653179, 'E-4': 0.32947976878612717, 'E-5': 0.3352601156069364, 'E-6': 0.34104046242774566, 'E2': 0.3468208092485549, 'E3': 0.35260115606936415, 'E4': 0.3583815028901734, 'E5': 0.36416184971098264, 'E6': 0.3699421965317919, 'F#2': 0.37572254335260113, 'F#3': 0.3815028901734104, 'F#4': 0.3872832369942196, 'F#5': 0.3930635838150289, 'F#6': 0.3988439306358382, 'F1': 0.4046242774566474, 'F2': 0.41040462427745666, 'F3': 0.4161849710982659, 'F4': 0.42196531791907516, 'F5': 0.4277456647398844, 'F6': 0.43352601156069365, 'G#2': 0.4393063583815029, 'G#3': 0.44508670520231214, 'G#4': 0.4508670520231214, 'G#5': 0.45664739884393063, 'G#6': 0.4624277456647399, 'G1': 0.4682080924855491, 'G2': 0.47398843930635837, 'G3': 0.4797687861271676, 'G4': 0.48554913294797686, 'G5': 0.4913294797687861, 'G6': 0.49710982658959535}\n"
   ]
  },
  {
   "cell_type": "code",
   "execution_count": 21,
   "metadata": {},
   "outputs": [
    {
     "ename": "NameError",
     "evalue": "name 'notes' is not defined",
     "output_type": "error",
     "traceback": [
      "\u001b[0;31m---------------------------------------------------------------------------\u001b[0m",
      "\u001b[0;31mNameError\u001b[0m                                 Traceback (most recent call last)",
      "\u001b[0;32m<ipython-input-21-7dc4850264b7>\u001b[0m in \u001b[0;36m<module>\u001b[0;34m\u001b[0m\n\u001b[0;32m----> 1\u001b[0;31m \u001b[0mpitch_names\u001b[0m\u001b[0;34m=\u001b[0m\u001b[0msorted\u001b[0m\u001b[0;34m(\u001b[0m\u001b[0mset\u001b[0m\u001b[0;34m(\u001b[0m\u001b[0mele\u001b[0m \u001b[0;32mfor\u001b[0m \u001b[0mele\u001b[0m \u001b[0;32min\u001b[0m \u001b[0mnotes\u001b[0m\u001b[0;34m)\u001b[0m\u001b[0;34m)\u001b[0m\u001b[0;34m\u001b[0m\u001b[0;34m\u001b[0m\u001b[0m\n\u001b[0m\u001b[1;32m      2\u001b[0m \u001b[0mn_vocab\u001b[0m\u001b[0;34m=\u001b[0m\u001b[0mlen\u001b[0m\u001b[0;34m(\u001b[0m\u001b[0mpitch_names\u001b[0m\u001b[0;34m)\u001b[0m\u001b[0;34m\u001b[0m\u001b[0;34m\u001b[0m\u001b[0m\n\u001b[1;32m      3\u001b[0m \u001b[0mprint\u001b[0m\u001b[0;34m(\u001b[0m\u001b[0mn_vocab\u001b[0m\u001b[0;34m)\u001b[0m\u001b[0;34m\u001b[0m\u001b[0;34m\u001b[0m\u001b[0m\n",
      "\u001b[0;31mNameError\u001b[0m: name 'notes' is not defined"
     ]
    }
   ],
   "source": [
    "pitch_names=sorted(set(ele for ele in notes))\n",
    "n_vocab=len(pitch_names)\n",
    "print(n_vocab)"
   ]
  },
  {
   "cell_type": "code",
   "execution_count": null,
   "metadata": {},
   "outputs": [],
   "source": [
    "mean = (n_vocab - 1)/2"
   ]
  },
  {
   "cell_type": "markdown",
   "metadata": {},
   "source": [
    "## OPTIONS\n",
    "1. Either we can make a dictionary to map pitches to some key value\n",
    "2. We might try using embeddings and see if they improve performance"
   ]
  },
  {
   "cell_type": "code",
   "execution_count": null,
   "metadata": {},
   "outputs": [],
   "source": [
    "##DICTIONARY APPROACH\n",
    "note_to_int = dict((note,(number-mean)/n_vocab) for number,note in enumerate(pitch_names))\n",
    "##PREPAING THE INPUT AND THE OUTPUT DATA FOR THE MODEL\n",
    "net_input = []\n",
    "net_output = []\n",
    "#notes = i[0]\n",
    "for i in range(len(notes)-seq_len):\n",
    "    temp_in = notes[i:i+seq_len]\n",
    "    temp_out = notes[i+seq_len]\n",
    "    \n",
    "    net_input.append([note_to_int[ch] for ch in temp_in])\n",
    "    net_output.append(note_to_int[temp_out])\n",
    "#print(np.shape(net_input),np.shape(notes))\n",
    "n_patterns = len(net_input)\n",
    "# reshape the input into a format compatible with LSTM layers\n",
    "net_input = np.reshape(net_input, (n_patterns, seq_len, 1))\n",
    "# normalize input\n",
    "#net_input = net_input\n",
    "#net_output = np.array(net_output)\n",
    "net_output = (np.array(net_output)*n_vocab)+mean\n",
    "#min_out = net_output.min()\n",
    "#net_output = (net_output - min_out)*n_vocab\n",
    "#print(np.shape((net_output + mean)*n_vocab))\n",
    "net_output = np_utils.to_categorical(net_output)\n",
    "print(np.shape(net_output))"
   ]
  },
  {
   "cell_type": "code",
   "execution_count": 9,
   "metadata": {},
   "outputs": [],
   "source": [
    "from keras.models import Sequential\n",
    "from keras.layers import LSTM,GRU,Embedding,Dense,Activation,Flatten,Dropout,Bidirectional\n",
    "from keras.callbacks import ModelCheckpoint\n",
    "from keras_self_attention import SeqSelfAttention"
   ]
  },
  {
   "cell_type": "code",
   "execution_count": null,
   "metadata": {},
   "outputs": [],
   "source": [
    "def get_model():\n",
    "    model=Sequential()\n",
    "    #model.add(Embedding)\n",
    "    model.add(Bidirectional(LSTM(256,return_sequences=True),input_shape=(net_input.shape[1], net_input.shape[2])))\n",
    "    model.add(Dropout(0.3))\n",
    "    model.add(SeqSelfAttention(attention_activation = \"sigmoid\"))\n",
    "    model.add(LSTM(128, return_sequences=True))\n",
    "    model.add(Dropout(0.3))\n",
    "    model.add(Flatten())\n",
    "    model.add(Dense(256, activation='relu'))\n",
    "    model.add(Dropout(0.3))\n",
    "    model.add(Dense(n_vocab))\n",
    "    model.add(Activation('softmax'))\n",
    "    return model\n",
    "def model_compile(model,optimizer):\n",
    "    model.compile(loss='categorical_crossentropy', optimizer=optimizer, metrics = ['accuracy'])\n",
    "def model_train(model,net_input, net_output,iterations,batch_size,period,version):\n",
    "    filepath = \"/home/beyonder100000/Documents/RNN_MUSIC/weights-{epoch:02d}\"+str(version)+\".hdf5\"    \n",
    "    checkpoint = ModelCheckpoint(filepath,monitor='loss', \n",
    "    verbose=0,        \n",
    "    save_best_only=True,        \n",
    "    mode='min',\n",
    "    period=period)\n",
    "    model.fit(net_input, net_output, epochs=iterations, batch_size=batch_size, callbacks=[checkpoint])"
   ]
  },
  {
   "cell_type": "code",
   "execution_count": null,
   "metadata": {},
   "outputs": [],
   "source": [
    "from keras import backend\n",
    "backend.clear_session()"
   ]
  },
  {
   "cell_type": "code",
   "execution_count": null,
   "metadata": {},
   "outputs": [],
   "source": [
    "model=get_model()\n",
    "model.summary()"
   ]
  },
  {
   "cell_type": "code",
   "execution_count": null,
   "metadata": {
    "scrolled": true
   },
   "outputs": [],
   "source": [
    "from keras import optimizers\n",
    "optimizer = optimizers.Adam(lr = 0.00001)\n",
    "model_compile(model,optimizer)\n",
    "model_train(model,net_input, net_output, 30, 64,30,6401)"
   ]
  },
  {
   "cell_type": "code",
   "execution_count": null,
   "metadata": {
    "scrolled": true
   },
   "outputs": [],
   "source": [
    "model_train(model,net_input, net_output, 30, 64,30,6401)"
   ]
  },
  {
   "cell_type": "code",
   "execution_count": null,
   "metadata": {},
   "outputs": [],
   "source": [
    "model.summary()"
   ]
  },
  {
   "cell_type": "code",
   "execution_count": null,
   "metadata": {},
   "outputs": [],
   "source": [
    "\"\"\"notes = []\n",
    "midi = converter.parse(file)\n",
    "notes_to_parse = None\n",
    "parts = instrument.partitionByInstrument(midi)\n",
    "if parts: # file has instrument parts\n",
    "    #print(\"1\")\n",
    "    notes_to_parse = parts.parts[0].recurse()\n",
    "else: # file has notes in a flat structure\n",
    "    #print(\"2\")\n",
    "    notes_to_parse = midi.flat.notes\"\"\"\n",
    "\"\"\"notes=[]\n",
    "for element in notes_to_parse:\n",
    "    if isinstance(element, note.Note):\n",
    "        notes.append(str(element.pitch))\n",
    "        #print(element)\n",
    "        print(element.duration,element.pitch)\n",
    "        #print(element.pitch)\n",
    "    elif isinstance(element, chord.Chord):\n",
    "        notes.append('.'.join(str(n) for n in element.normalOrder))\n",
    "        print(element.normalOrder,element)\n",
    "        for ele1 in element:\n",
    "            notes.append(ele1)\n",
    "            print(ele1.duration,ele1.pitch)\"\"\""
   ]
  },
  {
   "cell_type": "code",
   "execution_count": null,
   "metadata": {},
   "outputs": [],
   "source": [
    "from keras.models import load_model\n",
    "model_file=\"/home/beyonder100000/Documents/RNN_MUSIC/weights-206401.hdf5\"\n",
    "model=load_model(model_file,custom_objects = SeqSelfAttention.get_custom_objects())\n",
    "model.summary()"
   ]
  },
  {
   "cell_type": "code",
   "execution_count": null,
   "metadata": {},
   "outputs": [],
   "source": [
    "from keras import optimizers\n",
    "optimizer = optimizers.Adam()#lr = 0.00001)\n",
    "model_compile(model,optimizer)\n",
    "model_train(model,net_input, net_output, 30, 64,30,6401)"
   ]
  },
  {
   "cell_type": "markdown",
   "metadata": {},
   "source": [
    "## MUSIC GENRATION"
   ]
  },
  {
   "cell_type": "code",
   "execution_count": 5,
   "metadata": {},
   "outputs": [],
   "source": [
    "from keras.models import load_model"
   ]
  },
  {
   "cell_type": "code",
   "execution_count": 16,
   "metadata": {},
   "outputs": [
    {
     "name": "stdout",
     "output_type": "stream",
     "text": [
      "Model: \"sequential_1\"\n",
      "_________________________________________________________________\n",
      "Layer (type)                 Output Shape              Param #   \n",
      "=================================================================\n",
      "bidirectional_1 (Bidirection (None, 50, 512)           528384    \n",
      "_________________________________________________________________\n",
      "dropout_1 (Dropout)          (None, 50, 512)           0         \n",
      "_________________________________________________________________\n",
      "seq_self_attention_1 (SeqSel (None, 50, 512)           32833     \n",
      "_________________________________________________________________\n",
      "lstm_2 (LSTM)                (None, 50, 128)           328192    \n",
      "_________________________________________________________________\n",
      "dropout_2 (Dropout)          (None, 50, 128)           0         \n",
      "_________________________________________________________________\n",
      "flatten_1 (Flatten)          (None, 6400)              0         \n",
      "_________________________________________________________________\n",
      "dense_1 (Dense)              (None, 256)               1638656   \n",
      "_________________________________________________________________\n",
      "dropout_3 (Dropout)          (None, 256)               0         \n",
      "_________________________________________________________________\n",
      "dense_2 (Dense)              (None, 173)               44461     \n",
      "_________________________________________________________________\n",
      "activation_1 (Activation)    (None, 173)               0         \n",
      "=================================================================\n",
      "Total params: 2,572,526\n",
      "Trainable params: 2,572,526\n",
      "Non-trainable params: 0\n",
      "_________________________________________________________________\n"
     ]
    }
   ],
   "source": [
    "model_file=\"/home/beyonder100000/Documents/RNN_MUSIC/weights-306401.hdf5\"\n",
    "model=load_model(model_file,custom_objects = SeqSelfAttention.get_custom_objects())\n",
    "model.summary()"
   ]
  },
  {
   "cell_type": "code",
   "execution_count": 15,
   "metadata": {
    "scrolled": false
   },
   "outputs": [
    {
     "name": "stdout",
     "output_type": "stream",
     "text": [
      "Model: \"sequential_1\"\n",
      "_________________________________________________________________\n",
      "Layer (type)                 Output Shape              Param #   \n",
      "=================================================================\n",
      "lstm_1 (LSTM)                (None, 50, 256)           264192    \n",
      "_________________________________________________________________\n",
      "dropout_1 (Dropout)          (None, 50, 256)           0         \n",
      "_________________________________________________________________\n",
      "lstm_2 (LSTM)                (None, 50, 128)           197120    \n",
      "_________________________________________________________________\n",
      "dropout_2 (Dropout)          (None, 50, 128)           0         \n",
      "_________________________________________________________________\n",
      "flatten_1 (Flatten)          (None, 6400)              0         \n",
      "_________________________________________________________________\n",
      "dense_1 (Dense)              (None, 256)               1638656   \n",
      "_________________________________________________________________\n",
      "dropout_3 (Dropout)          (None, 256)               0         \n",
      "_________________________________________________________________\n",
      "dense_2 (Dense)              (None, 173)               44461     \n",
      "_________________________________________________________________\n",
      "activation_1 (Activation)    (None, 173)               0         \n",
      "=================================================================\n",
      "Total params: 2,144,429\n",
      "Trainable params: 2,144,429\n",
      "Non-trainable params: 0\n",
      "_________________________________________________________________\n"
     ]
    }
   ],
   "source": [
    "model.summary()"
   ]
  },
  {
   "cell_type": "markdown",
   "metadata": {},
   "source": [
    "## MUSIC GENERATION"
   ]
  },
  {
   "cell_type": "code",
   "execution_count": 42,
   "metadata": {
    "scrolled": true
   },
   "outputs": [
    {
     "name": "stdout",
     "output_type": "stream",
     "text": [
      "14\n",
      "0\n",
      "100\n",
      "200\n",
      "300\n",
      "400\n"
     ]
    }
   ],
   "source": [
    "## MUSIC NOTE GENERATION\n",
    "length = 50 ###instead of len(net_input)\n",
    "start = np.random.randint(0, length-1)\n",
    "print(start)\n",
    "#int_to_note = dict(((number-mean)/n_vocab, note) for number, note in enumerate(pitch_names))\n",
    "#note_to_int = dict((note,(number-mean)/n_vocab) for number,note in enumerate(pitch_names))\n",
    "music_len = 500\n",
    "music_out = []\n",
    "#pattern = net_input[start]\n",
    "#test_start = pattern\n",
    "pattern = np.random.rand(50,1)\n",
    "#print(pattern)\n",
    "for i in range(music_len):\n",
    "    if i%100 == 0 :\n",
    "        print(i)\n",
    "        #print(result)\n",
    "    pred_init = np.reshape(pattern,(1,seq_len,1))\n",
    "    #pred_init = (pred_init - mean)/ n_vocab\n",
    "\n",
    "    pred = model.predict(pred_init,verbose = 0)\n",
    "    #print(pred)\n",
    "    index = np.argmax(pred)\n",
    "    #print(np.argmax(pred))\n",
    "    index  = (index - mean)/n_vocab\n",
    "    result = int_to_note[index]\n",
    "    music_out.append(result)\n",
    "    #print(result)\n",
    "    pattern = list(pattern)\n",
    "    pattern.append(index)\n",
    "    pattern = pattern[1:len(pattern)]"
   ]
  },
  {
   "cell_type": "code",
   "execution_count": 36,
   "metadata": {},
   "outputs": [
    {
     "name": "stdout",
     "output_type": "stream",
     "text": [
      "['D5', 'D5', 'D5', 'D5', 'D5', 'D5', 'D5', 'C5', 'C5', 'G4', 'C5', 'C5', 'C5', 'G4', 'A4', 'D3', 'D3', 'G4', 'C5', 'D4', 'D4', '8.0', 'G4', 'E-5', 'D5', 'D5', 'B-4', 'D5', 'D5', 'D5', 'D5', 'D5', 'D5', 'D5', 'C5', 'C5', 'C5', 'G4', 'C5', 'C5', 'C2', 'C2', 'C5', 'G4', 'G4', 'C5', 'C5', 'C2', 'F5', 'A3', 'C4', 'F4', 'B-4', 'F4', 'B-4', 'F4', 'F5', 'D3', 'E-5', 'E-5', 'B-3', 'C4', 'C4', 'C4', 'F4', 'E-5', 'F5', 'E-5', 'D5', 'G3', 'B-3', 'D4', 'D4', 'G4', 'D3', 'A3', 'C4', 'F4', 'B-4', 'G3', 'B-4', 'B-3', 'G4', 'D4', 'B-3', 'A3', 'F5', 'A3', 'A3', 'F5', 'F4', 'E-5', 'E-5', 'E-5', 'G3', 'D3', 'D5', 'D4', 'A3', 'F4', 'A3', 'F4', 'A3', 'F4', 'D4', 'G3', 'B-5', 'D4', 'G4', 'B-4', 'A3', 'F4', 'D4', 'D4', 'F4', 'C5', 'A4', 'A4', 'C5', 'A3', 'C5', 'C5', 'C5', 'C5', 'B4', 'E2', 'A4', 'E3', 'A4', 'B-4', 'G4', 'A4', 'A4', 'A2', 'E2', 'C4', 'C4', 'C#4', 'C5', 'A4', 'F#3', 'C#4', 'A4', 'F#3', 'A4', 'F#3', 'C#4', 'A3', 'F4', 'A3', 'F4', 'A3', 'C#4', 'C#4', 'C#4', 'C#4', 'F4', 'A3', 'C#4', 'C#4', 'G4', 'A3', 'C#4', 'C#4', 'F5', 'A3', 'F5', 'A3', 'F5', 'D3', 'C4', 'C4', 'C4', 'C4', 'F4', 'A3', 'C4', 'C4', 'C4', 'F4', 'A3', 'C4', 'F4', 'A3', 'B-3', 'F4', 'A3', 'B3', 'F#3', 'A3', 'F#3', 'A3', 'F#3', 'D3', 'A3', 'F#3', 'A3', 'F4', 'A3', 'G4', 'B3', 'C#4', 'F#3', 'C#4', 'F#3', 'C#4', 'C#4', 'B3', 'F#3', 'F#3', 'B-3', 'B3', 'F#3', 'C#4', 'C#4', 'B-3', 'F#3', 'C#4', 'C#4', 'B-3', 'F#3', 'D3', 'D3', 'D3', 'F#3', 'A3', 'B3', 'F#3', 'D3', 'F#3', 'B3', 'C#4', 'C4', 'F#3', 'C#4', 'C4', 'F#3', 'C#4', 'F#3', 'D3', 'F#3', 'F#3', 'B-3', 'B-3', 'F#3', 'C#4', 'B3', 'F#3', 'D3', 'F#3', 'B-3', 'D3', 'C#4', 'B3', 'B3', 'F#3', 'A3', 'B-3', 'F#3', 'B-3', 'F#3', 'A3', 'F#3', 'B3', 'C#4', 'B3', 'F#3', 'A4', 'F#3', 'A4', 'A3', 'F#3', 'A4', 'F#3', 'A4', 'A3', 'F#3', 'C5', 'A3', 'F#3', 'A3', 'F#3', 'B-4', 'F#3', 'B-4', 'G4', 'A3', 'G4', 'A3', 'G4', 'B3', 'C#4', 'C#4', 'G4', 'D4', 'G4', 'D4', 'B-3', 'G4', 'B-3', 'C4', 'C#4', 'C#4', 'F#3', 'C#4', 'C#4', 'B3', 'B-3', 'G4', 'C#4', 'C#4', 'B-3', 'G4', 'D3', 'C#4', 'C#4', 'F#3', 'F#3', 'C4', 'C#4', 'F#3', 'C#4', 'F#3', 'C#4', 'F4', 'D3', 'D3', 'C4', 'A3', 'F4', 'A3', 'F4', 'A3', 'F4', 'A3', 'F4', 'G4', 'G4', 'G4', 'A4', 'G4', 'A4', 'E3', 'E3', 'B4', 'B4', 'A3', 'F#3', 'C5', 'B4', 'B4', 'E3', 'B4', 'B4', 'B-4', 'B-4', 'E2', 'B4', 'E2', 'B4', 'B4', 'E3', 'B4', 'B4', 'D5', 'E2', 'B4', 'E3', 'B4', 'B4', 'E3', 'B4', 'E3', 'B4', 'E3', 'B4', 'B4', 'B-4', 'E2', 'B4', 'E3', 'E2', 'D5', 'G3', 'B-3', 'G3', 'B-3', 'A3', 'F4', 'F#3', 'A2', 'C4', 'C4', 'C4', 'F4', 'C4', 'C4', 'G#5', 'C#4', 'C#2', 'C4', 'G3', 'D3', 'F#3', 'C#4', 'C#4', 'D3', 'D3', 'D3', 'F#3', 'F#3', 'E3', 'B-3', 'B4', 'G4', 'D3', 'C4', 'C4', 'A3', 'F#3', 'C#4', 'B3', 'B3', 'F#3', 'B3', 'C#5', 'B-3', 'F#3', 'D4', 'D3', 'C4', 'D3', 'A4', 'D3', 'A4', 'F#3', 'A4', 'F#3', 'A4', 'F#3', 'A3', 'F#3', 'C#4', 'C#4', 'D3', 'A4', 'F#3', 'B-4', 'A3', 'F#3', 'A4', 'F#3', 'A3', 'F#3', 'A3', 'F#3', 'A3', 'F4', 'A3', 'F4', 'A3', 'C#4', 'B3', 'F4', 'A3', 'C#4', 'F4', 'A3', 'F4', 'A3', 'C4', 'C#4', 'C#4', 'C#4', 'C#4', 'C#4', 'G4', 'A3', 'C#4', 'F4', 'A3', 'F4', 'A3', 'C#4', 'F5', 'A3', 'F5', 'B3', 'A3', 'B3', 'F4', 'A3', 'F4', 'A3', 'F4', 'A3', 'C4', 'F4', 'A3', 'B-3']\n"
     ]
    }
   ],
   "source": [
    "print(music_out)"
   ]
  },
  {
   "cell_type": "code",
   "execution_count": 26,
   "metadata": {},
   "outputs": [
    {
     "name": "stdout",
     "output_type": "stream",
     "text": [
      "['A4', 'G4', 'A4', 'G4', 'D3', 'G4', 'B-4', 'G4', 'B-4', 'G4', 'D5', 'A4', 'G4', 'G4', 'C5', 'C5', 'F4', 'G5', 'G5', 'C2', 'G5', 'C5', 'G5', 'C5', 'C5', 'C5', 'C5', 'C5', 'A4', 'A4', '10.2', '10.2', '8.0', '3.7.10', 'D5', 'F4', 'F4', 'G4', 'E-5', 'C4', 'F3', 'G#4', 'F3', 'F3', 'F3', 'F3', 'G#3', 'G#3', 'G3', 'G4', 'G3', 'G3', 'G3', 'B-3', 'D4', 'B-4', 'D5', 'E-5', 'C4', 'D4', 'G4', 'D5', 'B-3', 'D4', 'D4', 'D4', 'D4', '0.3', '5.7', '7.10', '2', '2.7', 'E-5', 'C4', 'E-4', '3.7', '10.2', '2.3', '2.7', '8.0', '0.3', '5.7', '7.11', 'G3', 'D4', 'G4', 'E-5', 'C4', 'E-4', '3.7', 'D5', 'B-3', 'D4', '2.7', '8.0', '0.2', '3.7', '5.9', '7.0', '7.0', '7.10', 'E-3', 'B-3', '10.3', '5.9.0', '7.0', '5', 'G5', 'G3', 'D4', 'G4', 'D5', 'B4', 'G4', 'E-5', 'C4', 'E-4', 'G4', 'D5', 'B-3', 'D4', 'G4', '8.0', '0.3', '5.7', '7.10', '2', '2.7', 'E-5', 'C4', 'E-4', '3.7', '10.2', '2.3', '2.7', '8.0', '0.3', '5.7', '7.11', 'G3', 'D4', 'G4', '10', 'G3', 'D4', '7.10', '9', '10.0', '5.9', '7.10', '3.5', '3.7', 'D5', 'B3', 'D4', 'E-5', 'G4', 'F5', 'G5', 'G#3', 'C4', 'D5', 'G4', 'E-5', '5.10', '2.3', '2.7', 'C5', 'C4', 'F4', 'G4', 'C5', 'G4', 'C4', 'G3', 'E-4', 'C4', 'G2', 'D4', 'B3', '7.0', 'E-5', 'C3', 'G3', 'C4', '7.10', 'D5', 'B-2', 'G3', 'D4', 'G4', '8.0', '3', '0.5', 'G4', '7.10', '2.7', '2', '7.0', 'E-5', 'C3', 'G3', '0.3', '7.10', '10.2', '3.7', '2', 'G4', '8.0', '3', '0.5', '7.11', 'G2', 'D3', 'G3', '0', 'E-5', '7', '0.3', '10', 'D5', '7', '10.2', 'G4', '8.0', '2.3', '0.3', 'A4', '5', '7.0', '5.9', '10', 'E-2', 'B-2', '10.3', '5.9', '7.0', '5', 'G5', 'G2', 'G3', '0.3', 'D4', 'B3', 'G4', 'D5', '7.0', 'E-5', 'C3', 'G3', 'C4', '7.10', 'D5', 'B-2', 'G3', 'D4', 'G4', '8.0', '3', '0.5', 'G4', '7.10', '2.7', '2', '7.0', '7.0', '7.0', '7.0', '3.7', '2', 'G4', '8.0', '3', '0.5', '7.11', '7.11', 'G2', 'D3', 'G3', '7.8.10.2', 'B-5', 'B-5', 'B-5', 'B-5', '5.9.0', 'A5', 'A5', 'E-5', 'F5', '3.7.10', 'E-5', 'F5', 'F5', 'F2', 'F2', '7', '2.3', 'E-5', 'D5', 'E-5', '7', '5', 'D5', '5', '10', 'C5', '10', '10', '3', '2', '10', '5', '5', '5', '5', '3', '3', '2', '2', '3', '7', '7', '7', '10', '10', '2', '2', '2', '2', '2', '5', '3', '3', '5', '5', '7', '10', '0', '5', '3', '5', '3', '2', '3', '7', '10.0', '8', '8', 'E-3', '0', 'C5', 'E4', 'C2', 'C2', 'C5', 'E4', 'C2', 'G4', 'G4', 'C5', 'C5', '10.2', 'B-1', 'D5', '10.2', 'B-1', 'F4', 'F4', 'B-4', 'B-4', 'F5', '9.0', 'F1', 'F5', '9.0', 'F1', 'A5', '9.0', 'F1', 'A5', '9.0', 'F1', 'G5', '11.2', 'G1', 'G5', '11.2', 'G1', 'E5', 'C5', 'C2', 'E5', 'C5', 'C2', 'C2', 'C2', 'G4', 'G4', 'C5', 'C5', 'D5', 'G1', 'D5', 'G1', 'G4', 'B-4', 'G4', 'B-4', 'G4', 'B-4', 'G4', 'B-4', 'G1', 'G1', 'G4', 'C5', 'C2', 'G4', 'C5', 'C2', 'C2', 'C2', 'A3', 'G4', 'A3', 'G4', 'C4', 'C5', 'C5', 'C5', 'B-3', 'B-4', 'G1', 'B-3', 'B-4', 'G1', 'D4', 'B-4', 'D4', 'B-4', 'C4', 'C5', 'C4', 'C5', 'F4', 'D5', 'F4', 'D5', 'G1', 'G1', 'G4', 'E5', 'C2', 'G4', 'E5', 'C2', 'C2', 'C2', 'G4', 'D5', 'G4', 'D5', 'A4', 'E5', 'A4', 'E5', 'A4', 'F5', 'G1', 'A4', 'F5', 'G1', 'F4', 'D5', 'F4', 'D5', 'F4', 'D5', 'F4', 'D5', 'B-4', 'B-5', 'G1', 'B-4', 'B-5', 'G1', 'B-4', 'F5', 'B-4', 'F5', 'B-4', 'F5', 'B-4', 'F5', 'A4', 'E5', 'C2', 'A4', 'E5', 'C2']\n"
     ]
    }
   ],
   "source": [
    "print(music_out)"
   ]
  },
  {
   "cell_type": "code",
   "execution_count": 43,
   "metadata": {},
   "outputs": [],
   "source": [
    "offset = 0\n",
    "music = []\n",
    "# create note and chord objects based on the values generated by the model\n",
    "for pattern in music_out:\n",
    "    #print(pattern)\n",
    "    # pattern is a chord\n",
    "    if ('.' in pattern) or pattern.isdigit():\n",
    "        notes_in_chord = pattern.split('.')\n",
    "        notes = []\n",
    "        for current_note in notes_in_chord:\n",
    "            new_note = note.Note(int(current_note))\n",
    "            new_note.storedInstrument = instrument.Piano()\n",
    "            notes.append(new_note)\n",
    "        new_chord = chord.Chord(notes)\n",
    "        new_chord.offset = offset\n",
    "        music.append(new_chord)\n",
    "    # pattern is a note\n",
    "    else:\n",
    "        new_note = note.Note(pattern)\n",
    "        new_note.offset = offset\n",
    "        new_note.storedInstrument = instrument.Piano()\n",
    "        music.append(new_note)\n",
    "    # increase offset each iteration so that notes do not stack\n",
    "    offset += 0.5"
   ]
  },
  {
   "cell_type": "code",
   "execution_count": 44,
   "metadata": {},
   "outputs": [
    {
     "data": {
      "text/plain": [
       "'test_output4.mid'"
      ]
     },
     "execution_count": 44,
     "metadata": {},
     "output_type": "execute_result"
    }
   ],
   "source": [
    "midi_stream = stream.Stream(music)\n",
    "midi_stream.write('midi', fp='test_output4.mid')"
   ]
  },
  {
   "cell_type": "code",
   "execution_count": null,
   "metadata": {},
   "outputs": [],
   "source": [
    "print(\"mean = \",mean)\n",
    "print(\"n_vocab = \",n_vocab)\n",
    "print(\"seq_len = \",seq_len)\n",
    "print(\"int_to_note = \",int_to_note)\n",
    "print(\"note_to_int = \",note_to_int)"
   ]
  },
  {
   "cell_type": "code",
   "execution_count": null,
   "metadata": {},
   "outputs": [],
   "source": []
  }
 ],
 "metadata": {
  "kernelspec": {
   "display_name": "Python 3",
   "language": "python",
   "name": "python3"
  },
  "language_info": {
   "codemirror_mode": {
    "name": "ipython",
    "version": 3
   },
   "file_extension": ".py",
   "mimetype": "text/x-python",
   "name": "python",
   "nbconvert_exporter": "python",
   "pygments_lexer": "ipython3",
   "version": "3.7.5"
  }
 },
 "nbformat": 4,
 "nbformat_minor": 2
}
